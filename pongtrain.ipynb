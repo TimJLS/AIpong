{
 "cells": [
  {
   "cell_type": "code",
   "execution_count": 2,
   "metadata": {},
   "outputs": [
    {
     "name": "stdout",
     "output_type": "stream",
     "text": [
      "Epoch 1/10\n",
      "290000/290000 [==============================] - 9s 32us/step - loss: 2.5985 - acc: 0.6668\n",
      "Epoch 2/10\n",
      "290000/290000 [==============================] - 9s 30us/step - loss: 0.4324 - acc: 0.8215\n",
      "Epoch 3/10\n",
      "290000/290000 [==============================] - 8s 28us/step - loss: 0.3712 - acc: 0.8525\n",
      "Epoch 4/10\n",
      "290000/290000 [==============================] - 8s 29us/step - loss: 0.3382 - acc: 0.8661\n",
      "Epoch 5/10\n",
      "290000/290000 [==============================] - 8s 28us/step - loss: 0.3308 - acc: 0.8710\n",
      "Epoch 6/10\n",
      "290000/290000 [==============================] - 9s 29us/step - loss: 0.3365 - acc: 0.8633\n",
      "Epoch 7/10\n",
      "290000/290000 [==============================] - 9s 31us/step - loss: 0.3155 - acc: 0.8757\n",
      "Epoch 8/10\n",
      "290000/290000 [==============================] - 9s 31us/step - loss: 0.2935 - acc: 0.8848\n",
      "Epoch 9/10\n",
      "290000/290000 [==============================] - 9s 32us/step - loss: 0.3078 - acc: 0.8799\n",
      "Epoch 10/10\n",
      "290000/290000 [==============================] - 9s 30us/step - loss: 0.3059 - acc: 0.8788\n",
      "10000/10000 [==============================] - 0s 22us/step\n",
      "[0.33648459565639494, 0.8066]\n"
     ]
    }
   ],
   "source": [
    "import json\n",
    "import numpy as np\n",
    "import keras\n",
    "from keras.models import Sequential\n",
    "from keras.layers import Dense, Dropout\n",
    "\n",
    "\n",
    "with open('training_data-100k.json') as f:\n",
    "    data = json.load(f)\n",
    "    xs = np.array(data['xs'])\n",
    "    ys = np.array(data['ys'])\n",
    "\n",
    "x_train = xs[:-10000]\n",
    "y_train = ys[:-10000]\n",
    "x_test = xs[-10000:]\n",
    "y_test = ys[-10000:]\n",
    "\n",
    "model = Sequential()\n",
    "model.add(Dense(64, activation='relu', input_dim=6))\n",
    "model.add(Dropout(0.5))\n",
    "model.add(Dense(64, activation='relu'))\n",
    "model.add(Dropout(0.5))\n",
    "model.add(Dense(3, activation='softmax'))\n",
    "\n",
    "adam = keras.optimizers.Adam(lr=0.001)\n",
    "\n",
    "\n",
    "model.compile(loss='categorical_crossentropy',\n",
    "             optimizer=adam,\n",
    "             metrics=['accuracy'])\n",
    "\n",
    "model.fit(x_train, y_train,\n",
    "         epochs=10,\n",
    "         batch_size=128)\n",
    "\n",
    "score = model.evaluate(x_test, y_test, batch_size=128)\n",
    "print(score)\n",
    "model.save(\"Keras-64x2-10epoch\")\n",
    "\n",
    "#import tensorflowjs as tfjs\n",
    "#tfjs.converters.save_keras_model(model, \"tfjsv3\")"
   ]
  },
  {
   "cell_type": "code",
   "execution_count": 3,
   "metadata": {},
   "outputs": [],
   "source": [
    "import tensorflowjs as tfjs\n",
    "tfjs.converters.save_keras_model(model, \"tfjsv3\")"
   ]
  },
  {
   "cell_type": "code",
   "execution_count": null,
   "metadata": {},
   "outputs": [],
   "source": []
  }
 ],
 "metadata": {
  "kernelspec": {
   "display_name": "Python 3",
   "language": "python",
   "name": "python3"
  },
  "language_info": {
   "codemirror_mode": {
    "name": "ipython",
    "version": 3
   },
   "file_extension": ".py",
   "mimetype": "text/x-python",
   "name": "python",
   "nbconvert_exporter": "python",
   "pygments_lexer": "ipython3",
   "version": "3.6.5"
  }
 },
 "nbformat": 4,
 "nbformat_minor": 2
}
