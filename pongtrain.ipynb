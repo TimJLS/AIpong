{
 "cells": [
  {
   "cell_type": "code",
   "execution_count": 5,
   "metadata": {},
   "outputs": [
    {
     "name": "stdout",
     "output_type": "stream",
     "text": [
      "Epoch 1/10\n",
      "290000/290000 [==============================] - 9s 32us/step - loss: 2.9882 - acc: 0.6447\n",
      "Epoch 2/10\n",
      "290000/290000 [==============================] - 9s 30us/step - loss: 0.4632 - acc: 0.8017\n",
      "Epoch 3/10\n",
      "290000/290000 [==============================] - 9s 30us/step - loss: 0.4036 - acc: 0.8322\n",
      "Epoch 4/10\n",
      "290000/290000 [==============================] - 8s 29us/step - loss: 0.3813 - acc: 0.8412\n",
      "Epoch 5/10\n",
      "290000/290000 [==============================] - 8s 29us/step - loss: 0.3711 - acc: 0.8448\n",
      "Epoch 6/10\n",
      "290000/290000 [==============================] - 8s 29us/step - loss: 0.3453 - acc: 0.8569\n",
      "Epoch 7/10\n",
      "290000/290000 [==============================] - 9s 32us/step - loss: 0.3463 - acc: 0.8535\n",
      "Epoch 8/10\n",
      "290000/290000 [==============================] - 9s 31us/step - loss: 0.3369 - acc: 0.8554\n",
      "Epoch 9/10\n",
      "290000/290000 [==============================] - 9s 30us/step - loss: 0.3245 - acc: 0.8590\n",
      "Epoch 10/10\n",
      "290000/290000 [==============================] - 9s 31us/step - loss: 0.3302 - acc: 0.8511\n",
      "10000/10000 [==============================] - 0s 16us/step\n",
      "[0.28649922256469729, 0.84150000000000003]\n"
     ]
    }
   ],
   "source": [
    "import json\n",
    "import numpy as np\n",
    "import keras\n",
    "from keras.models import Sequential\n",
    "from keras.layers import Dense, Dropout\n",
    "\n",
    "\n",
    "with open('training_data-100k.json') as f:\n",
    "    data = json.load(f)\n",
    "    xs = np.array(data['xs'])\n",
    "    ys = np.array(data['ys'])\n",
    "\n",
    "x_train = xs[:-10000]\n",
    "y_train = ys[:-10000]\n",
    "x_test = xs[-10000:]\n",
    "y_test = ys[-10000:]\n",
    "\n",
    "model = Sequential()\n",
    "model.add(Dense(64, activation='relu', input_dim=6))\n",
    "model.add(Dropout(0.5))\n",
    "model.add(Dense(64, activation='relu'))\n",
    "model.add(Dropout(0.5))\n",
    "model.add(Dense(3, activation='softmax'))\n",
    "\n",
    "adam = keras.optimizers.Adam(lr=0.001)\n",
    "\n",
    "\n",
    "model.compile(loss='categorical_crossentropy',\n",
    "             optimizer=adam,\n",
    "             metrics=['accuracy'])\n",
    "\n",
    "model.fit(x_train, y_train,\n",
    "         epochs=10,\n",
    "         batch_size=128)\n",
    "\n",
    "score = model.evaluate(x_test, y_test, batch_size=128)\n",
    "print(score)\n",
    "model.save(\"Keras-64x2-10epoch\")\n",
    "\n",
    "#import tensorflowjs as tfjs\n",
    "#tfjs.converters.save_keras_model(model, \"tfjsv3\")"
   ]
  },
  {
   "cell_type": "code",
   "execution_count": 2,
   "metadata": {},
   "outputs": [
    {
     "name": "stdout",
     "output_type": "stream",
     "text": [
      "\n",
      "The following command must be run outside of the IPython shell:\n",
      "\n",
      "    $ pip install tensorflowjs\n",
      "\n",
      "The Python package manager (pip) can only be used from outside of IPython.\n",
      "Please reissue the `pip` command in a separate terminal or command prompt.\n",
      "\n",
      "See the Python documentation for more informations on how to install packages:\n",
      "\n",
      "    https://docs.python.org/3/installing/\n"
     ]
    }
   ],
   "source": [
    "pip install tensorflowjs"
   ]
  },
  {
   "cell_type": "code",
   "execution_count": 1,
   "metadata": {},
   "outputs": [
    {
     "ename": "ModuleNotFoundError",
     "evalue": "No module named 'tensorflowjs'",
     "output_type": "error",
     "traceback": [
      "\u001b[1;31m---------------------------------------------------------------------------\u001b[0m",
      "\u001b[1;31mModuleNotFoundError\u001b[0m                       Traceback (most recent call last)",
      "\u001b[1;32m<ipython-input-1-e91b9d5db072>\u001b[0m in \u001b[0;36m<module>\u001b[1;34m()\u001b[0m\n\u001b[1;32m----> 1\u001b[1;33m \u001b[1;32mimport\u001b[0m \u001b[0mtensorflowjs\u001b[0m \u001b[1;32mas\u001b[0m \u001b[0mtfjs\u001b[0m\u001b[1;33m\u001b[0m\u001b[0m\n\u001b[0m",
      "\u001b[1;31mModuleNotFoundError\u001b[0m: No module named 'tensorflowjs'"
     ]
    }
   ],
   "source": [
    "import tensorflowjs as tfjs"
   ]
  }
 ],
 "metadata": {
  "kernelspec": {
   "display_name": "Python 3",
   "language": "python",
   "name": "python3"
  },
  "language_info": {
   "codemirror_mode": {
    "name": "ipython",
    "version": 3
   },
   "file_extension": ".py",
   "mimetype": "text/x-python",
   "name": "python",
   "nbconvert_exporter": "python",
   "pygments_lexer": "ipython3",
   "version": "3.6.4"
  }
 },
 "nbformat": 4,
 "nbformat_minor": 2
}
